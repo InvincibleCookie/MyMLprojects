{
  "cells": [
    {
      "cell_type": "code",
      "execution_count": null,
      "metadata": {
        "id": "n3bCJNzLRn8o"
      },
      "outputs": [],
      "source": [
        "import torch\n",
        "import torchaudio\n",
        "import os\n",
        "import pandas as pd\n",
        "import librosa\n",
        "import numpy as np\n",
        "import torch.nn as nn\n",
        "import torch.nn.functional as F\n",
        "import torch.optim as optim\n",
        "from torch.utils.data import Dataset, DataLoader, random_split\n",
        "from torchaudio.transforms import MelSpectrogram\n",
        "from kaggle.api.kaggle_api_extended import KaggleApi\n",
        "import zipfile"
      ]
    },
    {
      "cell_type": "code",
      "execution_count": null,
      "metadata": {
        "colab": {
          "base_uri": "https://localhost:8080/",
          "height": 73
        },
        "id": "Y6pAsM1mZ7lj",
        "outputId": "a17e9e5c-81f9-4ba4-f580-7f9e38f2f594"
      },
      "outputs": [
        {
          "output_type": "display_data",
          "data": {
            "text/plain": [
              "<IPython.core.display.HTML object>"
            ],
            "text/html": [
              "\n",
              "     <input type=\"file\" id=\"files-8275d7d1-e6df-41c9-aafe-87de4f44e157\" name=\"files[]\" multiple disabled\n",
              "        style=\"border:none\" />\n",
              "     <output id=\"result-8275d7d1-e6df-41c9-aafe-87de4f44e157\">\n",
              "      Upload widget is only available when the cell has been executed in the\n",
              "      current browser session. Please rerun this cell to enable.\n",
              "      </output>\n",
              "      <script>// Copyright 2017 Google LLC\n",
              "//\n",
              "// Licensed under the Apache License, Version 2.0 (the \"License\");\n",
              "// you may not use this file except in compliance with the License.\n",
              "// You may obtain a copy of the License at\n",
              "//\n",
              "//      http://www.apache.org/licenses/LICENSE-2.0\n",
              "//\n",
              "// Unless required by applicable law or agreed to in writing, software\n",
              "// distributed under the License is distributed on an \"AS IS\" BASIS,\n",
              "// WITHOUT WARRANTIES OR CONDITIONS OF ANY KIND, either express or implied.\n",
              "// See the License for the specific language governing permissions and\n",
              "// limitations under the License.\n",
              "\n",
              "/**\n",
              " * @fileoverview Helpers for google.colab Python module.\n",
              " */\n",
              "(function(scope) {\n",
              "function span(text, styleAttributes = {}) {\n",
              "  const element = document.createElement('span');\n",
              "  element.textContent = text;\n",
              "  for (const key of Object.keys(styleAttributes)) {\n",
              "    element.style[key] = styleAttributes[key];\n",
              "  }\n",
              "  return element;\n",
              "}\n",
              "\n",
              "// Max number of bytes which will be uploaded at a time.\n",
              "const MAX_PAYLOAD_SIZE = 100 * 1024;\n",
              "\n",
              "function _uploadFiles(inputId, outputId) {\n",
              "  const steps = uploadFilesStep(inputId, outputId);\n",
              "  const outputElement = document.getElementById(outputId);\n",
              "  // Cache steps on the outputElement to make it available for the next call\n",
              "  // to uploadFilesContinue from Python.\n",
              "  outputElement.steps = steps;\n",
              "\n",
              "  return _uploadFilesContinue(outputId);\n",
              "}\n",
              "\n",
              "// This is roughly an async generator (not supported in the browser yet),\n",
              "// where there are multiple asynchronous steps and the Python side is going\n",
              "// to poll for completion of each step.\n",
              "// This uses a Promise to block the python side on completion of each step,\n",
              "// then passes the result of the previous step as the input to the next step.\n",
              "function _uploadFilesContinue(outputId) {\n",
              "  const outputElement = document.getElementById(outputId);\n",
              "  const steps = outputElement.steps;\n",
              "\n",
              "  const next = steps.next(outputElement.lastPromiseValue);\n",
              "  return Promise.resolve(next.value.promise).then((value) => {\n",
              "    // Cache the last promise value to make it available to the next\n",
              "    // step of the generator.\n",
              "    outputElement.lastPromiseValue = value;\n",
              "    return next.value.response;\n",
              "  });\n",
              "}\n",
              "\n",
              "/**\n",
              " * Generator function which is called between each async step of the upload\n",
              " * process.\n",
              " * @param {string} inputId Element ID of the input file picker element.\n",
              " * @param {string} outputId Element ID of the output display.\n",
              " * @return {!Iterable<!Object>} Iterable of next steps.\n",
              " */\n",
              "function* uploadFilesStep(inputId, outputId) {\n",
              "  const inputElement = document.getElementById(inputId);\n",
              "  inputElement.disabled = false;\n",
              "\n",
              "  const outputElement = document.getElementById(outputId);\n",
              "  outputElement.innerHTML = '';\n",
              "\n",
              "  const pickedPromise = new Promise((resolve) => {\n",
              "    inputElement.addEventListener('change', (e) => {\n",
              "      resolve(e.target.files);\n",
              "    });\n",
              "  });\n",
              "\n",
              "  const cancel = document.createElement('button');\n",
              "  inputElement.parentElement.appendChild(cancel);\n",
              "  cancel.textContent = 'Cancel upload';\n",
              "  const cancelPromise = new Promise((resolve) => {\n",
              "    cancel.onclick = () => {\n",
              "      resolve(null);\n",
              "    };\n",
              "  });\n",
              "\n",
              "  // Wait for the user to pick the files.\n",
              "  const files = yield {\n",
              "    promise: Promise.race([pickedPromise, cancelPromise]),\n",
              "    response: {\n",
              "      action: 'starting',\n",
              "    }\n",
              "  };\n",
              "\n",
              "  cancel.remove();\n",
              "\n",
              "  // Disable the input element since further picks are not allowed.\n",
              "  inputElement.disabled = true;\n",
              "\n",
              "  if (!files) {\n",
              "    return {\n",
              "      response: {\n",
              "        action: 'complete',\n",
              "      }\n",
              "    };\n",
              "  }\n",
              "\n",
              "  for (const file of files) {\n",
              "    const li = document.createElement('li');\n",
              "    li.append(span(file.name, {fontWeight: 'bold'}));\n",
              "    li.append(span(\n",
              "        `(${file.type || 'n/a'}) - ${file.size} bytes, ` +\n",
              "        `last modified: ${\n",
              "            file.lastModifiedDate ? file.lastModifiedDate.toLocaleDateString() :\n",
              "                                    'n/a'} - `));\n",
              "    const percent = span('0% done');\n",
              "    li.appendChild(percent);\n",
              "\n",
              "    outputElement.appendChild(li);\n",
              "\n",
              "    const fileDataPromise = new Promise((resolve) => {\n",
              "      const reader = new FileReader();\n",
              "      reader.onload = (e) => {\n",
              "        resolve(e.target.result);\n",
              "      };\n",
              "      reader.readAsArrayBuffer(file);\n",
              "    });\n",
              "    // Wait for the data to be ready.\n",
              "    let fileData = yield {\n",
              "      promise: fileDataPromise,\n",
              "      response: {\n",
              "        action: 'continue',\n",
              "      }\n",
              "    };\n",
              "\n",
              "    // Use a chunked sending to avoid message size limits. See b/62115660.\n",
              "    let position = 0;\n",
              "    do {\n",
              "      const length = Math.min(fileData.byteLength - position, MAX_PAYLOAD_SIZE);\n",
              "      const chunk = new Uint8Array(fileData, position, length);\n",
              "      position += length;\n",
              "\n",
              "      const base64 = btoa(String.fromCharCode.apply(null, chunk));\n",
              "      yield {\n",
              "        response: {\n",
              "          action: 'append',\n",
              "          file: file.name,\n",
              "          data: base64,\n",
              "        },\n",
              "      };\n",
              "\n",
              "      let percentDone = fileData.byteLength === 0 ?\n",
              "          100 :\n",
              "          Math.round((position / fileData.byteLength) * 100);\n",
              "      percent.textContent = `${percentDone}% done`;\n",
              "\n",
              "    } while (position < fileData.byteLength);\n",
              "  }\n",
              "\n",
              "  // All done.\n",
              "  yield {\n",
              "    response: {\n",
              "      action: 'complete',\n",
              "    }\n",
              "  };\n",
              "}\n",
              "\n",
              "scope.google = scope.google || {};\n",
              "scope.google.colab = scope.google.colab || {};\n",
              "scope.google.colab._files = {\n",
              "  _uploadFiles,\n",
              "  _uploadFilesContinue,\n",
              "};\n",
              "})(self);\n",
              "</script> "
            ]
          },
          "metadata": {}
        },
        {
          "output_type": "stream",
          "name": "stdout",
          "text": [
            "Saving kaggle (1).json to kaggle (1).json\n"
          ]
        }
      ],
      "source": [
        "from google.colab import files\n",
        "files.upload()\n",
        "\n",
        "# Создание директории для хранения конфигурации Kaggle API\n",
        "!mkdir -p ~/.kaggle\n",
        "!cp kaggle.json ~/.kaggle/\n",
        "!chmod 600 ~/.kaggle/kaggle.json"
      ]
    },
    {
      "cell_type": "code",
      "execution_count": null,
      "metadata": {
        "colab": {
          "base_uri": "https://localhost:8080/"
        },
        "id": "LZBvKUCMaJ9t",
        "outputId": "3aefb0ea-e073-4304-e844-76bd897e6ce0"
      },
      "outputs": [
        {
          "output_type": "stream",
          "name": "stdout",
          "text": [
            "Dataset URL: https://www.kaggle.com/datasets/slenser/data-audio-mnist\n",
            "License(s): unknown\n",
            "Downloading data-audio-mnist.zip to /content\n",
            " 99% 700M/707M [00:07<00:00, 133MB/s]\n",
            "100% 707M/707M [00:07<00:00, 96.0MB/s]\n"
          ]
        }
      ],
      "source": [
        "!kaggle datasets download -d slenser/data-audio-mnist"
      ]
    },
    {
      "cell_type": "code",
      "execution_count": null,
      "metadata": {
        "colab": {
          "base_uri": "https://localhost:8080/"
        },
        "id": "Vk3me0Sdb0h7",
        "outputId": "2ca45d91-b5a6-4ab5-f78e-6efcba1b4282"
      },
      "outputs": [
        {
          "output_type": "stream",
          "name": "stdout",
          "text": [
            "Dataset URL: https://www.kaggle.com/datasets/slenser/audio-mnist-test\n",
            "License(s): unknown\n",
            "Downloading audio-mnist-test.zip to /content\n",
            "100% 240M/241M [00:02<00:00, 109MB/s] \n",
            "100% 241M/241M [00:02<00:00, 121MB/s]\n"
          ]
        }
      ],
      "source": [
        "!kaggle datasets download -d slenser/audio-mnist-test"
      ]
    },
    {
      "cell_type": "code",
      "execution_count": null,
      "metadata": {
        "colab": {
          "base_uri": "https://localhost:8080/"
        },
        "id": "Z4UYo0K5dlgQ",
        "outputId": "89fb70c6-7b65-4b4a-8680-c8526c30e51b"
      },
      "outputs": [
        {
          "output_type": "stream",
          "name": "stdout",
          "text": [
            "Файлы успешно распакованы!\n"
          ]
        }
      ],
      "source": [
        "import os\n",
        "import zipfile\n",
        "\n",
        "# Путь для распаковки данных\n",
        "train_zip_path = './data-audio-mnist.zip'\n",
        "test_zip_path = './audio-mnist-test.zip'\n",
        "train_extract_path = './data/train'\n",
        "test_extract_path = './data/test'\n",
        "\n",
        "# Функция для распаковки zip файлов\n",
        "def extract_zip(zip_path, extract_to):\n",
        "    with zipfile.ZipFile(zip_path, 'r') as zip_ref:\n",
        "        zip_ref.extractall(extract_to)\n",
        "\n",
        "# Создание директорий, если они не существуют\n",
        "os.makedirs(train_extract_path, exist_ok=True)\n",
        "os.makedirs(test_extract_path, exist_ok=True)\n",
        "\n",
        "# Распаковка файлов\n",
        "extract_zip(train_zip_path, train_extract_path)\n",
        "extract_zip(test_zip_path, test_extract_path)\n",
        "\n",
        "print(\"Файлы успешно распакованы!\")\n"
      ]
    },
    {
      "cell_type": "code",
      "execution_count": null,
      "metadata": {
        "id": "StSqezZc8chR"
      },
      "outputs": [],
      "source": [
        "import os\n",
        "import torch\n",
        "import torchaudio\n",
        "import torch.nn as nn\n",
        "import torch.nn.functional as F\n",
        "from torch.utils.data import Dataset, DataLoader\n",
        "from torchvision import transforms\n",
        "\n",
        "class AudioMNISTDataset(Dataset):\n",
        "    def __init__(self, root_dir, transform=None, target_size=(128, 128)):\n",
        "        self.root_dir = root_dir\n",
        "        self.transform = transform\n",
        "        self.file_paths = [os.path.join(root_dir, fname) for fname in os.listdir(root_dir) if fname.endswith('.wav')]\n",
        "        self.mel_spectrogram = torchaudio.transforms.MelSpectrogram(\n",
        "            sample_rate=16000,\n",
        "            n_fft=1024,\n",
        "            hop_length=512,\n",
        "            n_mels=128\n",
        "        )\n",
        "        self.target_size = target_size\n",
        "\n",
        "    def __len__(self):\n",
        "        return len(self.file_paths)\n",
        "\n",
        "    def __getitem__(self, idx):\n",
        "      file_path = self.file_paths[idx]\n",
        "      label = int(os.path.basename(file_path).split('_')[0])\n",
        "      waveform, sample_rate = torchaudio.load(file_path)\n",
        "\n",
        "      # Преобразуем в мел-спектрограмму\n",
        "      mel_spec = self.mel_spectrogram(waveform).squeeze(0)\n",
        "\n",
        "      mel_spec = mel_spec.unsqueeze(0).unsqueeze(0)\n",
        "\n",
        "      if mel_spec.size(3) < self.target_size[1]:\n",
        "          mel_spec = torch.nn.functional.pad(mel_spec, (0, self.target_size[1] - mel_spec.size(3)))\n",
        "\n",
        "      mel_spec_resized = torch.nn.functional.interpolate(mel_spec, size=(self.target_size[0], self.target_size[1]), mode='bilinear', align_corners=False)\n",
        "\n",
        "      mel_spec_resized = mel_spec_resized.float()\n",
        "\n",
        "      if self.transform:\n",
        "          mel_spec_resized = self.transform(mel_spec_resized)\n",
        "\n",
        "      return mel_spec_resized.squeeze(0), label\n"
      ]
    },
    {
      "cell_type": "code",
      "execution_count": null,
      "metadata": {
        "id": "_PVgSKv48xZt"
      },
      "outputs": [],
      "source": [
        "class CNNModel(nn.Module):\n",
        "    def __init__(self, num_classes=10, input_shape=(128, 128)):\n",
        "        super(CNNModel, self).__init__()\n",
        "        self.conv1 = nn.Conv2d(1, 32, kernel_size=3, stride=1, padding=1)\n",
        "        self.conv2 = nn.Conv2d(32, 64, kernel_size=3, stride=1, padding=1)\n",
        "        self.conv3 = nn.Conv2d(64, 128, kernel_size=3, stride=1, padding=1)\n",
        "        self.pool = nn.MaxPool2d(kernel_size=2, stride=2, padding=0)\n",
        "\n",
        "        # Рассчитываем размер входа для fc1 в зависимости от размера мел-спектрограммы\n",
        "        self._to_linear = None\n",
        "        self._to_linear = self.calculate_fc_input(input_shape)\n",
        "\n",
        "        self.fc1 = nn.Linear(self._to_linear, 256)\n",
        "        self.fc2 = nn.Linear(256, num_classes)\n",
        "        self.dropout = nn.Dropout(0.5)\n",
        "\n",
        "    def forward(self, x):\n",
        "        x = self.pool(F.relu(self.conv1(x)))\n",
        "        x = self.pool(F.relu(self.conv2(x)))\n",
        "        x = self.pool(F.relu(self.conv3(x)))\n",
        "        x = x.view(-1, self._to_linear)  # Используем рассчитанный размер для fc1\n",
        "        x = F.relu(self.fc1(x))\n",
        "        x = self.dropout(x)\n",
        "        x = self.fc2(x)\n",
        "        return x\n",
        "\n",
        "    def calculate_fc_input(self, input_shape):\n",
        "        # Подсчитываем размер для fc1 в зависимости от размера мел-спектрограммы\n",
        "        batch_data = torch.zeros((1, 1, input_shape[0], input_shape[1]))\n",
        "        x = self.pool(F.relu(self.conv1(batch_data)))\n",
        "        x = self.pool(F.relu(self.conv2(x)))\n",
        "        x = self.pool(F.relu(self.conv3(x)))\n",
        "        return x.view(x.size(0), -1).shape[1]"
      ]
    },
    {
      "cell_type": "code",
      "execution_count": null,
      "metadata": {
        "id": "F_dlpd8P96aa"
      },
      "outputs": [],
      "source": [
        "def train_model(model, train_loader, test_loader, criterion, optimizer, num_epochs=10, device='cpu'):\n",
        "    model.to(device)\n",
        "    for epoch in range(num_epochs):\n",
        "        model.train()\n",
        "        running_loss = 0.0\n",
        "        for mel_specs, labels in train_loader:\n",
        "            mel_specs, labels = mel_specs.to(device), labels.to(device)\n",
        "\n",
        "            optimizer.zero_grad()\n",
        "            outputs = model(mel_specs)\n",
        "            loss = criterion(outputs, labels)\n",
        "            loss.backward()\n",
        "            optimizer.step()\n",
        "\n",
        "            running_loss += loss.item()\n",
        "\n",
        "        print(f'Epoch {epoch+1}/{num_epochs}, Loss: {running_loss/len(train_loader)}')\n",
        "\n",
        "        # Валидация\n",
        "        model.eval()\n",
        "        correct = 0\n",
        "        total = 0\n",
        "        with torch.no_grad():\n",
        "            for mel_specs, labels in test_loader:\n",
        "                mel_specs, labels = mel_specs.to(device), labels.to(device)\n",
        "                outputs = model(mel_specs)\n",
        "                _, predicted = torch.max(outputs, 1)\n",
        "                total += labels.size(0)\n",
        "                correct += (predicted == labels).sum().item()\n",
        "\n",
        "        print(f'Accuracy: {100 * correct / total}%')"
      ]
    },
    {
      "cell_type": "code",
      "execution_count": null,
      "metadata": {
        "id": "m91qR1XqDJ6_",
        "colab": {
          "base_uri": "https://localhost:8080/"
        },
        "outputId": "c713137b-6ec4-4d5d-a685-a841dd7ae4cf"
      },
      "outputs": [
        {
          "output_type": "stream",
          "name": "stdout",
          "text": [
            "Epoch 1/10, Loss: 0.5867307566887493\n",
            "Accuracy: 93.8%\n",
            "Epoch 2/10, Loss: 0.1937920109849074\n",
            "Accuracy: 95.56%\n",
            "Epoch 3/10, Loss: 0.11075922677859622\n",
            "Accuracy: 97.01333333333334%\n",
            "Epoch 4/10, Loss: 0.06390544843998214\n",
            "Accuracy: 97.52%\n",
            "Epoch 5/10, Loss: 0.047495365409195696\n",
            "Accuracy: 97.69333333333333%\n",
            "Epoch 6/10, Loss: 0.04176096152448074\n",
            "Accuracy: 98.36%\n",
            "Epoch 7/10, Loss: 0.055776249452006516\n",
            "Accuracy: 97.92%\n",
            "Epoch 8/10, Loss: 0.06732086436068388\n",
            "Accuracy: 98.14666666666666%\n",
            "Epoch 9/10, Loss: 0.024293910572569386\n",
            "Accuracy: 97.77333333333333%\n",
            "Epoch 10/10, Loss: 0.024355050495763274\n",
            "Accuracy: 98.42666666666666%\n"
          ]
        }
      ],
      "source": [
        "batch_size = 32\n",
        "learning_rate = 0.001\n",
        "num_epochs = 10\n",
        "input_shape = (128, 128)  # Размер мел-спектрограммы после изменения\n",
        "\n",
        "# Пути к данным\n",
        "train_data_path = './data/train'\n",
        "test_data_path = './data/test'\n",
        "\n",
        "\n",
        "\n",
        "# Создание датасетов и DataLoader\n",
        "train_dataset = AudioMNISTDataset(root_dir=train_data_path, target_size=input_shape)\n",
        "test_dataset = AudioMNISTDataset(root_dir=test_data_path, target_size=input_shape)\n",
        "\n",
        "train_loader = DataLoader(train_dataset, batch_size=batch_size, shuffle=True, num_workers=2)\n",
        "test_loader = DataLoader(test_dataset, batch_size=batch_size, shuffle=False, num_workers=2)\n",
        "\n",
        "# Создание модели\n",
        "model = CNNModel(num_classes=10, input_shape=input_shape)\n",
        "\n",
        "# Определение критерия и оптимизатора\n",
        "criterion = nn.CrossEntropyLoss()\n",
        "optimizer = torch.optim.Adam(model.parameters(), lr=learning_rate)\n",
        "\n",
        "# Обучение модели\n",
        "train_model(model, train_loader, test_loader, criterion, optimizer, num_epochs=num_epochs, device='cpu')\n"
      ]
    },
    {
      "cell_type": "code",
      "source": [
        "model_save_path = 'cnn_model.pth'\n",
        "torch.save(model.state_dict(), model_save_path)"
      ],
      "metadata": {
        "id": "M7rqh87VMRHN"
      },
      "execution_count": null,
      "outputs": []
    }
  ],
  "metadata": {
    "colab": {
      "provenance": []
    },
    "kernelspec": {
      "display_name": "Python 3",
      "name": "python3"
    },
    "language_info": {
      "name": "python"
    }
  },
  "nbformat": 4,
  "nbformat_minor": 0
}